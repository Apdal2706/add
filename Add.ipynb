{
  "nbformat": 4,
  "nbformat_minor": 0,
  "metadata": {
    "colab": {
      "provenance": [],
      "toc_visible": true,
      "authorship_tag": "ABX9TyPKIUsmbKgYhyAQJpESmj1U",
      "include_colab_link": true
    },
    "kernelspec": {
      "name": "python3",
      "display_name": "Python 3"
    },
    "language_info": {
      "name": "python"
    }
  },
  "cells": [
    {
      "cell_type": "markdown",
      "metadata": {
        "id": "view-in-github",
        "colab_type": "text"
      },
      "source": [
        "<a href=\"https://colab.research.google.com/github/Apdal2706/add/blob/main/Add.ipynb\" target=\"_parent\"><img src=\"https://colab.research.google.com/assets/colab-badge.svg\" alt=\"Open In Colab\"/></a>"
      ]
    },
    {
      "cell_type": "code",
      "execution_count": null,
      "metadata": {
        "id": "SFBNfnSZMOf-"
      },
      "outputs": [],
      "source": [
        "from google.colab import drive\n",
        "drive.mount('/content/drive')\n",
        "\n",
        "!apt-get -y install -qq aria2\n",
        "\n",
        "#@title # **Download Lora**\n",
        "#@markdown ### <br> **Install lora 1**\n",
        "lora_url = \" \"  #@param {type:\"string\"}\n",
        "lora_name = \" \" #@param {type:\"string\"}\n",
        "#@markdown ### <br> **Install lora 2**\n",
        "lora_url2 = \" \" #@param {type: \"string\"}\n",
        "lora_name2 = \" \" #@param {type: \"string\"}\n",
        "#@markdown ### <br> **Install lora 3**\n",
        "lora_url3 = \" \"  #@param {type:\"string\"}\n",
        "lora_name3 = \" \" #@param {type:\"string\"}\n",
        "#@markdown ### <br> **Install lora 4**\n",
        "lora_url4 = \" \"  #@param {type:\"string\"}\n",
        "lora_name4 = \" \" #@param {type:\"string\"}\n",
        "#@markdown ### <br> **Install lora 5**\n",
        "lora_url5 = \" \"  #@param {type:\"string\"}\n",
        "lora_name5 = \" \" #@param {type:\"string\"}\n",
        "#@markdown ### <br> **Install lora 6**\n",
        "lora_url6 = \" \"  #@param {type:\"string\"}\n",
        "lora_name6 = \" \" #@param {type:\"string\"} \n",
        "#lora_url = \" \"  #@param {type:\"string\"}\n",
        "#lora_name = \" \" #@param {type:\"string\"}\n",
        "#lora_url = \" \"  #@param {type:\"string\"}\n",
        "#lora_name = \" \" #@param {type:\"string\"}\n",
        "\n",
        "!aria2c --console-log-level=error -c -x 16 -s 16 -k 1M {model_url} -d /content/drive/MyDrive/stable-diffusion-webui-colab/stable-diffusion-webui/models/Lora -o {model_name}\n",
        "!aria2c --console-log-level=error -c -x 16 -s 16 -k 1M {model_url} -d /content/drive/MyDrive/stable-diffusion-webui-colab/stable-diffusion-webui/models/Lora -o {model_name}\n",
        "\n",
        "!aria2c --console-log-level=error -c -x 16 -s 16 -k 1M {model_url2} -d /content/drive/MyDrive/stable-diffusion-webui-colab/stable-diffusion-webui/models/Lora -o {model_name2}\n",
        "!aria2c --console-log-level=error -c -x 16 -s 16 -k 1M {model_url2} -d /content/drive/MyDrive/stable-diffusion-webui-colab/stable-diffusion-webui/models/Lora -o {model_name2}\n",
        "\n",
        "!aria2c --console-log-level=error -c -x 16 -s 16 -k 1M {model_url3} -d /content/drive/MyDrive/stable-diffusion-webui-colab/stable-diffusion-webui/models/Lora -o {model_name3}\n",
        "!aria2c --console-log-level=error -c -x 16 -s 16 -k 1M {model_url3} -d /content/drive/MyDrive/stable-diffusion-webui-colab/stable-diffusion-webui/models/Lora -o {model_name3}\n",
        "\n",
        "!aria2c --console-log-level=error -c -x 16 -s 16 -k 1M {model_url4} -d /content/drive/MyDrive/stable-diffusion-webui-colab/stable-diffusion-webui/models/Lora -o {model_name4}\n",
        "!aria2c --console-log-level=error -c -x 16 -s 16 -k 1M {model_url4} -d /content/drive/MyDrive/stable-diffusion-webui-colab/stable-diffusion-webui/models/Lora -o {model_name4}\n",
        "\n",
        "!aria2c --console-log-level=error -c -x 16 -s 16 -k 1M {model_url5} -d /content/drive/MyDrive/stable-diffusion-webui-colab/stable-diffusion-webui/models/Lora -o {model_name5}\n",
        "!aria2c --console-log-level=error -c -x 16 -s 16 -k 1M {model_url5} -d /content/drive/MyDrive/stable-diffusion-webui-colab/stable-diffusion-webui/models/Lora -o {model_name5}\n",
        "\n",
        "!aria2c --console-log-level=error -c -x 16 -s 16 -k 1M {model_url6} -d /content/drive/MyDrive/stable-diffusion-webui-colab/stable-diffusion-webui/models/Lora -o {model_name6}\n",
        "!aria2c --console-log-level=error -c -x 16 -s 16 -k 1M {model_url6} -d /content/drive/MyDrive/stable-diffusion-webui-colab/stable-diffusion-webui/models/Lora -o {model_name6}\n",
        "\n",
        "\n",
        "\n",
        "\n",
        "\n"
      ]
    }
  ]
}